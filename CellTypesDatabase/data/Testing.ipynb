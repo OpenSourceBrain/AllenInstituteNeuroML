{
 "metadata": {
  "name": ""
 },
 "nbformat": 3,
 "nbformat_minor": 0,
 "worksheets": [
  {
   "cells": [
    {
     "cell_type": "code",
     "collapsed": false,
     "input": [
      "from allensdk.api.queries.cell_types_api import CellTypesApi\n",
      "import os\n",
      "\n",
      "ct = CellTypesApi()\n",
      "\n",
      "dataset_id = 471141261\n",
      "\n",
      "raw_ephys_file_name = '%d_raw_data.nwb' % dataset_id\n",
      "\n",
      "\n",
      "from allensdk.core.nwb_data_set import NwbDataSet\n",
      "data_set = NwbDataSet(raw_ephys_file_name)\n",
      "\n",
      "print('Loaded data %s'%dataset_id)\n",
      "\n",
      "sweep_data = data_set.get_sweep(55)\n",
      "\n",
      "print(sweep_data['stimulus'])\n"
     ],
     "language": "python",
     "metadata": {},
     "outputs": [
      {
       "output_type": "stream",
       "stream": "stdout",
       "text": [
        "Loaded data 471141261\n",
        "[ 0.  0.  0. ...,  0.  0.  0.]"
       ]
      },
      {
       "output_type": "stream",
       "stream": "stdout",
       "text": [
        "\n"
       ]
      }
     ],
     "prompt_number": 2
    },
    {
     "cell_type": "code",
     "collapsed": false,
     "input": [],
     "language": "python",
     "metadata": {},
     "outputs": [],
     "prompt_number": 2
    }
   ],
   "metadata": {}
  }
 ]
}