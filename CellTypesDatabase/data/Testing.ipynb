{
 "metadata": {
  "name": "",
  "signature": "sha256:899746464607ec7ec1bfc021631c249b13b29f3ed4ba1c19cfc83a28b3111fbe"
 },
 "nbformat": 3,
 "nbformat_minor": 0,
 "worksheets": [
  {
   "cells": [
    {
     "cell_type": "code",
     "collapsed": false,
     "input": [
      "from allensdk.api.queries.cell_types_api import CellTypesApi\n",
      "import os\n",
      "\n",
      "ct = CellTypesApi()\n",
      "\n",
      "dataset_id = 471141261\n",
      "\n",
      "raw_ephys_file_name = '%d_raw_data.nwb' % dataset_id\n",
      "\n",
      "\n",
      "from allensdk.core.nwb_data_set import NwbDataSet\n",
      "data_set = NwbDataSet(raw_ephys_file_name)\n",
      "\n",
      "print('Loaded data %s'%dataset_id)\n",
      "\n",
      "sweep_number = 55\n",
      "\n",
      "sweep_data = data_set.get_sweep(sweep_number)\n",
      "\n",
      "print(sweep_data['stimulus'])\n"
     ],
     "language": "python",
     "metadata": {},
     "outputs": [
      {
       "output_type": "stream",
       "stream": "stdout",
       "text": [
        "Loaded data 471141261\n",
        "[ 0.  0.  0. ...,  0.  0.  0.]"
       ]
      },
      {
       "output_type": "stream",
       "stream": "stdout",
       "text": [
        "\n"
       ]
      }
     ],
     "prompt_number": 3
    },
    {
     "cell_type": "code",
     "collapsed": false,
     "input": [
      "data_set.get_sweep_metadata(sweep_number)\n"
     ],
     "language": "python",
     "metadata": {},
     "outputs": [
      {
       "metadata": {},
       "output_type": "pyout",
       "prompt_number": 4,
       "text": [
        "{'aibs_stimulus_amplitude_pa': 309.999997893939,\n",
        " 'aibs_stimulus_name': u'Long Square',\n",
        " 'gain': 0.0099999998,\n",
        " 'initial_access_resistance': 8293784.5,\n",
        " 'seal': 3.0566308e+09}"
       ]
      }
     ],
     "prompt_number": 4
    },
    {
     "cell_type": "code",
     "collapsed": false,
     "input": [],
     "language": "python",
     "metadata": {},
     "outputs": [],
     "prompt_number": 4
    }
   ],
   "metadata": {}
  }
 ]
}