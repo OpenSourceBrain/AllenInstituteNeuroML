{
 "cells": [
  {
   "cell_type": "code",
   "execution_count": 1,
   "id": "8adf99c2",
   "metadata": {},
   "outputs": [],
   "source": [
    "from allensdk.api.queries.glif_api import GlifApi\n",
    "import random\n",
    "import pprint\n",
    "import os"
   ]
  },
  {
   "cell_type": "code",
   "execution_count": 33,
   "id": "a6993d26",
   "metadata": {},
   "outputs": [
    {
     "ename": "KeyError",
     "evalue": "480633674",
     "output_type": "error",
     "traceback": [
      "\u001b[0;31m---------------------------------------------------------------------------\u001b[0m",
      "\u001b[0;31mKeyError\u001b[0m                                  Traceback (most recent call last)",
      "\u001b[0;32m/tmp/ipykernel_279878/96400829.py\u001b[0m in \u001b[0;36m<module>\u001b[0;34m\u001b[0m\n\u001b[1;32m     17\u001b[0m \u001b[0;34m\u001b[0m\u001b[0m\n\u001b[1;32m     18\u001b[0m     \u001b[0;31m# download the model configuration file\u001b[0m\u001b[0;34m\u001b[0m\u001b[0;34m\u001b[0m\u001b[0;34m\u001b[0m\u001b[0m\n\u001b[0;32m---> 19\u001b[0;31m     \u001b[0mnc\u001b[0m \u001b[0;34m=\u001b[0m \u001b[0mglif_api\u001b[0m\u001b[0;34m.\u001b[0m\u001b[0mget_neuron_configs\u001b[0m\u001b[0;34m(\u001b[0m\u001b[0;34m[\u001b[0m\u001b[0mneuronal_model_id\u001b[0m\u001b[0;34m]\u001b[0m\u001b[0;34m)\u001b[0m\u001b[0;34m[\u001b[0m\u001b[0mneuronal_model_id\u001b[0m\u001b[0;34m]\u001b[0m\u001b[0;34m\u001b[0m\u001b[0;34m\u001b[0m\u001b[0m\n\u001b[0m\u001b[1;32m     20\u001b[0m     \u001b[0mneuron_config\u001b[0m \u001b[0;34m=\u001b[0m \u001b[0mglif_api\u001b[0m\u001b[0;34m.\u001b[0m\u001b[0mget_neuron_configs\u001b[0m\u001b[0;34m(\u001b[0m\u001b[0;34m[\u001b[0m\u001b[0mneuronal_model_id\u001b[0m\u001b[0;34m]\u001b[0m\u001b[0;34m)\u001b[0m\u001b[0;34m\u001b[0m\u001b[0;34m\u001b[0m\u001b[0m\n\u001b[1;32m     21\u001b[0m     \u001b[0mjson_utilities\u001b[0m\u001b[0;34m.\u001b[0m\u001b[0mwrite\u001b[0m\u001b[0;34m(\u001b[0m\u001b[0;34mf'{neuronal_model_id}/neuron_config.json'\u001b[0m\u001b[0;34m,\u001b[0m \u001b[0mneuron_config\u001b[0m\u001b[0;34m)\u001b[0m\u001b[0;34m\u001b[0m\u001b[0;34m\u001b[0m\u001b[0m\n",
      "\u001b[0;31mKeyError\u001b[0m: 480633674"
     ]
    }
   ],
   "source": [
    "# list_all.py\n",
    "from allensdk.api.queries.glif_api import GlifApi\n",
    "from allensdk.core.cell_types_cache import CellTypesCache\n",
    "import allensdk.core.json_utilities as json_utilities\n",
    "import os\n",
    "\n",
    "GLIF_MODEL_IDS = ['472455459', '472308324', '480633674', '480629475', '566291893', '486557295', '491546962', '566286114', '473875489', '472451425', '480629471']\n",
    "\n",
    "for neuronal_model_id in [480633674]:\n",
    "    if not os.path.isdir(str(neuronal_model_id)):\n",
    "        os.mkdir(str(neuronal_model_id))\n",
    "\n",
    "    # download model metadata\n",
    "    glif_api = GlifApi()\n",
    "    nm = glif_api.get_neuronal_models_by_id([neuronal_model_id])\n",
    "    json_utilities.write(f'{neuronal_model_id}/model_metadata.json', nm)\n",
    "\n",
    "    # download the model configuration file\n",
    "    nc = glif_api.get_neuron_configs([neuronal_model_id])[neuronal_model_id]\n",
    "    neuron_config = glif_api.get_neuron_configs([neuronal_model_id])\n",
    "    json_utilities.write(f'{neuronal_model_id}/neuron_config.json', neuron_config)\n",
    "\n",
    "    # download information about the cell\n",
    "    ctc = CellTypesCache()\n",
    "    ctc.get_ephys_data(nm['specimen_id'], file_name=f'{neuronal_model_id}/stimulus.nwb')\n",
    "    ctc.get_ephys_sweeps(nm['specimen_id'], file_name=f'{neuronal_model_id}/ephys_sweeps.json')\n"
   ]
  },
  {
   "cell_type": "code",
   "execution_count": 44,
   "id": "da6f3070",
   "metadata": {},
   "outputs": [
    {
     "data": {
      "text/plain": [
       "{'bridge_balance_mohm': 13.4310131072998,\n",
       " 'id': 464306387,\n",
       " 'leak_pa': -27.4218521118164,\n",
       " 'num_spikes': 15,\n",
       " 'peak_deflection': None,\n",
       " 'post_noise_rms_mv': 0.0355927273631096,\n",
       " 'post_vm_mv': -67.8553924560547,\n",
       " 'pre_noise_rms_mv': 0.0407275557518005,\n",
       " 'pre_vm_mv': -66.6786956787109,\n",
       " 'slow_noise_rms_mv': 0.227124035358429,\n",
       " 'slow_vm_mv': -66.6786956787109,\n",
       " 'specimen_id': 464198958,\n",
       " 'stimulus_absolute_amplitude': 50.0000006675716,\n",
       " 'stimulus_description': 'C1LSCOARSE141203[8]',\n",
       " 'stimulus_duration': 0.999995,\n",
       " 'stimulus_interval': None,\n",
       " 'stimulus_name': 'Long Square',\n",
       " 'stimulus_relative_amplitude': 1.0,\n",
       " 'stimulus_start_time': 1.02,\n",
       " 'stimulus_units': 'Amps',\n",
       " 'sweep_number': 28,\n",
       " 'vm_delta_mv': 1.17669677734375}"
      ]
     },
     "execution_count": 44,
     "metadata": {},
     "output_type": "execute_result"
    }
   ],
   "source": [
    "ephys_sweep"
   ]
  },
  {
   "cell_type": "code",
   "execution_count": 2,
   "id": "6f45b07a",
   "metadata": {
    "scrolled": true
   },
   "outputs": [],
   "source": [
    "# run_glif.py\n",
    "import allensdk.core.json_utilities as json_utilities\n",
    "from allensdk.model.glif.glif_neuron import GlifNeuron\n",
    "from allensdk.core.nwb_data_set import NwbDataSet\n",
    "from pyneuroml import pynml\n",
    "import numpy as np\n",
    "\n",
    "neuronal_model_id = 566282032\n",
    "os.chdir(str(neuronal_model_id))\n",
    "\n",
    "neuron_config = json_utilities.read('neuron_config.json')[f'{neuronal_model_id}']\n",
    "ephys_sweeps = json_utilities.read('ephys_sweeps.json')\n",
    "ephys_file_name = 'stimulus.nwb'\n",
    "\n",
    "# pull out the stimulus for the current-clamp first sweep\n",
    "ephys_sweep = next( s for s in ephys_sweeps \n",
    "                    if s['stimulus_units'] == 'Amps' and s['num_spikes'] is not None and s['num_spikes']>10 and s['num_spikes']<24) # TODO\n",
    "ds = NwbDataSet(ephys_file_name)\n",
    "data = ds.get_sweep(ephys_sweep['sweep_number']) \n",
    "stimulus = data['stimulus']\n",
    "\n",
    "# initialize the neuron\n",
    "# important! update the neuron's dt for your stimulus\n",
    "neuron = GlifNeuron.from_dict(neuron_config)\n",
    "neuron.dt = 1.0 / data['sampling_rate']\n",
    "\n"
   ]
  },
  {
   "cell_type": "code",
   "execution_count": null,
   "id": "b532a88c",
   "metadata": {},
   "outputs": [],
   "source": []
  },
  {
   "cell_type": "code",
   "execution_count": null,
   "id": "1bf117cb",
   "metadata": {},
   "outputs": [],
   "source": [
    "# simulate the neuron\n",
    "output = neuron.run(stimulus)\n",
    "\n",
    "voltage = output['voltage']\n",
    "threshold = output['threshold']\n",
    "spike_times = output['interpolated_spike_times']\n",
    "\n",
    "info = \"Model %s; %spA stimulation; %i spikes\"%(neuronal_model_id, ephys_sweep['stimulus_absolute_amplitude'], len(spike_times))\n",
    "print(info)\n",
    "curr_pA = int(ephys_sweep['stimulus_absolute_amplitude'])\n",
    "\n",
    "# v_file = open('original.v.dat','w')\n",
    "# th_file = open('original.thresh.dat','w')\n",
    "times = np.arange(len(stimulus))*neuron.dt\n",
    "\n",
    "for i in range(len(times)):\n",
    "    t = times[i]\n",
    "    v = voltage[i]\n",
    "    th = threshold[i]\n",
    "#     v_file.write('%s\\t%s\\n'%(t,v))\n",
    "#     th_file.write('%s\\t%s\\n'%(t,th))\n",
    "# v_file.close()\n",
    "# th_file.close()\n",
    "\n",
    "pynml.generate_plot([times],\n",
    "                        [voltage], \n",
    "                        \"Membrane potential; %s\"%info, \n",
    "                        colors = ['k'], \n",
    "                        xaxis = \"Time (s)\", \n",
    "                        yaxis = \"Voltage (V)\", \n",
    "                        xlim = (0.9, 2.1),\n",
    "                        grid = True,\n",
    "                        show_plot_already=True,\n",
    "                        save_figure_to='MembranePotential_%ipA.png'%(curr_pA))\n",
    "\n",
    "pynml.generate_plot([times],\n",
    "                        [threshold], \n",
    "                        \"Threshold; %s\"%info, \n",
    "                        colors = ['r'], \n",
    "                        xaxis = \"Time (s)\", \n",
    "                        yaxis = \"Voltage (V)\", \n",
    "                        xlim = (0.9, 2.1),\n",
    "                        grid = True,\n",
    "                        show_plot_already=True,\n",
    "                        save_figure_to='Threshold_%ipA.png'%(curr_pA))\n",
    "\n",
    "os.chdir('../')"
   ]
  },
  {
   "cell_type": "code",
   "execution_count": 62,
   "id": "ffcb2809",
   "metadata": {},
   "outputs": [],
   "source": [
    "os.chdir('../')"
   ]
  },
  {
   "cell_type": "code",
   "execution_count": 60,
   "id": "b9406bf2",
   "metadata": {},
   "outputs": [
    {
     "data": {
      "text/plain": [
       "{'bridge_balance_mohm': 12.9426126480103,\n",
       " 'id': 396323146,\n",
       " 'leak_pa': None,\n",
       " 'num_spikes': 80,\n",
       " 'peak_deflection': None,\n",
       " 'post_noise_rms_mv': 0.0,\n",
       " 'post_vm_mv': 0.0,\n",
       " 'pre_noise_rms_mv': 0.0408523268997669,\n",
       " 'pre_vm_mv': -70.7385330200195,\n",
       " 'slow_noise_rms_mv': 0.119603060185909,\n",
       " 'slow_vm_mv': -70.7385330200195,\n",
       " 'specimen_id': 318556138,\n",
       " 'stimulus_absolute_amplitude': 800.000010681146,\n",
       " 'stimulus_description': 'C1RP25PR1S141203[0]',\n",
       " 'stimulus_duration': 31.997495,\n",
       " 'stimulus_interval': None,\n",
       " 'stimulus_name': 'Ramp',\n",
       " 'stimulus_relative_amplitude': 1.0,\n",
       " 'stimulus_start_time': 1.0225,\n",
       " 'stimulus_units': 'Amps',\n",
       " 'sweep_number': 4,\n",
       " 'vm_delta_mv': 0.0}"
      ]
     },
     "execution_count": 60,
     "metadata": {},
     "output_type": "execute_result"
    }
   ],
   "source": [
    "ephys_sweep"
   ]
  },
  {
   "cell_type": "code",
   "execution_count": 50,
   "id": "ebcd841b",
   "metadata": {},
   "outputs": [
    {
     "name": "stderr",
     "output_type": "stream",
     "text": [
      "pyNeuroML >>> INFO - Generating plot: Membrane potential; Model 566282032; 800.000010681146pA stimulation; 10071 spikes\n",
      "/home/anujanegi/anaconda3/envs/allen/lib/python3.7/site-packages/pyneuroml/pynml.py:2705: UserWarning: marker is redundantly defined by the 'marker' keyword argument and the fmt string \"o\" (-> marker='o'). The keyword argument will take precedence.\n",
      "  label=label,\n",
      "pyNeuroML >>> INFO - Saving image to /home/anujanegi/tj/AllenInstituteNeuroML/CellTypesDatabase/models/GLIF/MembranePotential_800pA.png of plot: Membrane potential; Model 566282032; 800.000010681146pA stimulation; 10071 spikes\n",
      "pyNeuroML >>> INFO - Saved image to MembranePotential_800pA.png of plot: Membrane potential; Model 566282032; 800.000010681146pA stimulation; 10071 spikes\n"
     ]
    },
    {
     "data": {
      "image/png": "[encoded data removed]",
      "text/plain": [
       "<Figure size 432x288 with 1 Axes>"
      ]
     },
     "metadata": {
      "needs_background": "light"
     },
     "output_type": "display_data"
    },
    {
     "name": "stderr",
     "output_type": "stream",
     "text": [
      "pyNeuroML >>> INFO - Generating plot: Threshold; Model 566282032; 800.000010681146pA stimulation; 10071 spikes\n",
      "/home/anujanegi/anaconda3/envs/allen/lib/python3.7/site-packages/pyneuroml/pynml.py:2705: UserWarning: marker is redundantly defined by the 'marker' keyword argument and the fmt string \"o\" (-> marker='o'). The keyword argument will take precedence.\n",
      "  label=label,\n",
      "pyNeuroML >>> INFO - Saving image to /home/anujanegi/tj/AllenInstituteNeuroML/CellTypesDatabase/models/GLIF/Threshold_800pA.png of plot: Threshold; Model 566282032; 800.000010681146pA stimulation; 10071 spikes\n",
      "pyNeuroML >>> INFO - Saved image to Threshold_800pA.png of plot: Threshold; Model 566282032; 800.000010681146pA stimulation; 10071 spikes\n"
     ]
    },
    {
     "data": {
      "image/png": "[encoded data removed]",
      "text/plain": [
       "<Figure size 432x288 with 1 Axes>"
      ]
     },
     "metadata": {
      "needs_background": "light"
     },
     "output_type": "display_data"
    },
    {
     "data": {
      "text/plain": [
       "<AxesSubplot:xlabel='Time (s)', ylabel='Voltage (V)'>"
      ]
     },
     "execution_count": 50,
     "metadata": {},
     "output_type": "execute_result"
    }
   ],
   "source": [
    "pynml.generate_plot([times],\n",
    "                        [voltage], \n",
    "                        \"Membrane potential; %s\"%info, \n",
    "                        colors = ['k'], \n",
    "                        xaxis = \"Time (s)\", \n",
    "                        yaxis = \"Voltage (V)\", \n",
    "#                         xlim = (0.9, 2.1),\n",
    "                        grid = True,\n",
    "                        show_plot_already=True,\n",
    "                        save_figure_to='MembranePotential_%ipA.png'%(curr_pA))\n",
    "\n",
    "pynml.generate_plot([times],\n",
    "                        [threshold], \n",
    "                        \"Threshold; %s\"%info, \n",
    "                        colors = ['r'], \n",
    "                        xaxis = \"Time (s)\", \n",
    "                        yaxis = \"Voltage (V)\", \n",
    "#                         xlim = (0.9, 2.1),\n",
    "                        grid = True,\n",
    "                        show_plot_already=True,\n",
    "                        save_figure_to='Threshold_%ipA.png'%(curr_pA))\n"
   ]
  },
  {
   "cell_type": "code",
   "execution_count": 47,
   "id": "7f0d6bfd",
   "metadata": {},
   "outputs": [],
   "source": [
    "os.chdir('../')"
   ]
  },
  {
   "cell_type": "code",
   "execution_count": 19,
   "id": "9b8672e5",
   "metadata": {},
   "outputs": [
    {
     "data": {
      "text/plain": [
       "['472455459',\n",
       " '472308324',\n",
       " '480633674',\n",
       " '480629475',\n",
       " '566291893',\n",
       " '486557295',\n",
       " 'README.md',\n",
       " '491546962',\n",
       " '566286114',\n",
       " '473875489',\n",
       " '472451425',\n",
       " '480629471']"
      ]
     },
     "execution_count": 19,
     "metadata": {},
     "output_type": "execute_result"
    }
   ],
   "source": [
    "# 566288171 check this"
   ]
  },
  {
   "cell_type": "code",
   "execution_count": 8,
   "id": "f18ed11a",
   "metadata": {},
   "outputs": [
    {
     "name": "stdout",
     "output_type": "stream",
     "text": [
      "1 Leaky Integrate and Fire (LIF)_Sst-IRES-Cre;Ai14-165865.03.01.01\n",
      "<Lems>\n",
      "\n",
      "  <glifCell  id=\"TEST_566291893\"\n",
      "            C=\"4.946777501211952e-11 F\"\n",
      "            leakReversal=\"0.0 V\"\n",
      "            reset=\"0.0 V\"\n",
      "            thresh=\"0.019823932717303136 V\"\n",
      "            leakConductance=\"2.283367836808255e-09 S\"/>\n",
      "\n",
      "</Lems>\n",
      "\n",
      "OpenCortex >>> Created NeuroMLDocument containing a network with id: Test_566291893\n",
      "OpenCortex >>> Saved NeuroML with id: Test_566291893 to file: /home/anujanegi/tj/AllenInstituteNeuroML/CellTypesDatabase/models/GLIF/566291893/Test_566291893.net.nml\n"
     ]
    }
   ],
   "source": [
    "# parse\n",
    "\n",
    "\n",
    "usage='''\n",
    "\n",
    "This file can be used to generate LEMS components for each of a number of GLIF models \n",
    "\n",
    "Usage:\n",
    "\n",
    "    python parse_glif.py -all\n",
    "    \n",
    "'''\n",
    "\n",
    "import sys\n",
    "import os\n",
    "import json\n",
    "\n",
    "from pyneuroml import pynml\n",
    "\n",
    "glif_dir=\"566291893\"\n",
    "sweep_number=28\n",
    "show_plot=False\n",
    "\n",
    "os.chdir(glif_dir)\n",
    "\n",
    "with open('model_metadata.json', \"r\") as json_file:\n",
    "    model_metadata = json.load(json_file)\n",
    "\n",
    "with open('neuron_config.json', \"r\") as json_file:\n",
    "    neuron_config = json.load(json_file)[f\"{glif_dir}\"]\n",
    "\n",
    "with open('ephys_sweeps.json', \"r\") as json_file:\n",
    "    ephys_sweeps = json.load(json_file)\n",
    "\n",
    "ephys_sweep = next(\n",
    "    s\n",
    "    for s in ephys_sweeps\n",
    "    if s[\"sweep_number\"] == sweep_number\n",
    ")\n",
    "curr_pA = int(ephys_sweep[\"stimulus_absolute_amplitude\"])\n",
    "\n",
    "template_cell = '''<Lems>\n",
    "\n",
    "  <%s %s/>\n",
    "\n",
    "</Lems>\n",
    "'''\n",
    "\n",
    "type = '???'\n",
    "print(model_metadata['name'])\n",
    "if '(LIF)' in model_metadata['name']:\n",
    "    type = 'glifCell'\n",
    "if '(LIF-ASC)' in model_metadata['name']:\n",
    "    type = 'glifAscCell'\n",
    "if '(LIF-R)' in model_metadata['name']:\n",
    "    type = 'glifRCell'\n",
    "if '(LIF-R-ASC)' in model_metadata['name']:\n",
    "    type = 'glifRAscCell'\n",
    "if '(LIF-R-ASC-A)' in model_metadata['name']:\n",
    "    type = 'glifRAscATCell'\n",
    "\n",
    "cell_id = 'TEST_%s'%glif_dir\n",
    "\n",
    "attributes = \"\"\n",
    "\n",
    "attributes +=' id=\"%s\"'%cell_id\n",
    "attributes +='\\n            C=\"%s F\"'%neuron_config[\"C\"]\n",
    "attributes +='\\n            leakReversal=\"%s V\"'%neuron_config[\"El\"]\n",
    "attributes +='\\n            reset=\"%s V\"'%neuron_config[\"El\"]\n",
    "attributes +='\\n            thresh=\"%s V\"'%( float(neuron_config[\"th_inf\"]) * float(neuron_config[\"coeffs\"][\"th_inf\"]))\n",
    "attributes +='\\n            leakConductance=\"%s S\"'%(1/float(neuron_config[\"R_input\"]))\n",
    "\n",
    "if 'Asc' in type:\n",
    "    attributes +='\\n            tau1=\"%s s\"'%neuron_config[\"asc_tau_array\"][0]\n",
    "    attributes +='\\n            tau2=\"%s s\"'%neuron_config[\"asc_tau_array\"][1]\n",
    "    attributes +='\\n            amp1=\"%s A\"'% ( float(neuron_config[\"asc_amp_array\"][0]) * float(neuron_config[\"coeffs\"][\"asc_amp_array\"][0]) )\n",
    "    attributes +='\\n            amp2=\"%s A\"'% ( float(neuron_config[\"asc_amp_array\"][1]) * float(neuron_config[\"coeffs\"][\"asc_amp_array\"][1]) )\n",
    "\n",
    "if 'glifR' in type:\n",
    "    attributes +='\\n            bs=\"%s per_s\"'%neuron_config[\"threshold_dynamics_method\"][\"params\"][\"b_spike\"]\n",
    "    attributes +='\\n            deltaThresh=\"%s V\"'%neuron_config[\"threshold_dynamics_method\"][\"params\"][\"a_spike\"]\n",
    "    attributes +='\\n            fv=\"%s\"'%neuron_config[\"voltage_reset_method\"][\"params\"][\"a\"]\n",
    "    attributes +='\\n            deltaV=\"%s V\"'%neuron_config[\"voltage_reset_method\"][\"params\"][\"b\"]\n",
    "\n",
    "if 'glifRAscATCell' in type:\n",
    "    attributes +='\\n            bv=\"%s per_s\"'%neuron_config[\"threshold_dynamics_method\"][\"params\"][\"b_voltage\"]\n",
    "    attributes +='\\n            a=\"%s per_s\"'%neuron_config[\"threshold_dynamics_method\"][\"params\"][\"a_voltage\"]\n",
    "\n",
    "\n",
    "file_contents = template_cell%(type, attributes)\n",
    "\n",
    "print(file_contents)\n",
    "\n",
    "cell_file_name = '%s.xml'%(cell_id)\n",
    "cell_file = open(cell_file_name,'w')\n",
    "cell_file.write(file_contents)\n",
    "cell_file.close()\n",
    "\n",
    "\n",
    "import opencortex.core as oc\n",
    "\n",
    "nml_doc, network = oc.generate_network(\"Test_%s\"%glif_dir)\n",
    "\n",
    "pop = oc.add_single_cell_population(network,\n",
    "                                     'pop_%s'%glif_dir,\n",
    "                                     cell_id)\n",
    "\n",
    "\n",
    "pg = oc.add_pulse_generator(nml_doc,\n",
    "                       id=\"pg0\",\n",
    "                       delay=\"100ms\",\n",
    "                       duration=\"1000ms\",\n",
    "                       amplitude=\"%s pA\"%curr_pA)\n",
    "\n",
    "\n",
    "oc.add_inputs_to_population(network,\n",
    "                            \"Stim0\",\n",
    "                            pop,\n",
    "                            pg.id,\n",
    "                            all_cells=True)\n",
    "\n",
    "\n",
    "\n",
    "nml_file_name = '%s.net.nml'%network.id\n",
    "oc.save_network(nml_doc, nml_file_name, validate=False)\n",
    "\n",
    "\n",
    "thresh = 'thresh'\n",
    "if 'glifR' in type:\n",
    "    thresh = 'threshTotal'\n",
    "\n"
   ]
  },
  {
   "cell_type": "code",
   "execution_count": 9,
   "id": "9a44a0b8",
   "metadata": {},
   "outputs": [
    {
     "name": "stderr",
     "output_type": "stream",
     "text": [
      "pyNeuroML >>> INFO - Loading NeuroML2 file: Test_566291893.net.nml\n",
      "pyNeuroML >>> INFO - Including included files (included already: [])\n",
      "pyNeuroML >>> INFO - Loading NeuroML2 file: Test_566291893.net.nml\n"
     ]
    }
   ],
   "source": [
    "lems_file_name = oc.generate_lems_simulation(nml_doc, \n",
    "                            network, \n",
    "                            nml_file_name, \n",
    "                            include_extra_lems_files = [cell_file_name,'../GLIFs.xml'],\n",
    "                            duration =      1200, \n",
    "                            dt =            0.01,\n",
    "                            gen_saves_for_quantities = {'thresh.dat':['pop_%s/0/GLIF_%s/%s'%(glif_dir,glif_dir,thresh)]},\n",
    "                            gen_plots_for_quantities = {'Threshold':['pop_%s/0/GLIF_%s/%s'%(glif_dir,glif_dir,thresh)]})\n"
   ]
  },
  {
   "cell_type": "code",
   "execution_count": 32,
   "id": "781305fa",
   "metadata": {},
   "outputs": [
    {
     "name": "stdout",
     "output_type": "stream",
     "text": [
      "pyNeuroML >>> INFO - Executing: (java -Xmx400M  -jar  \"/home/anujanegi/anaconda3/envs/allen/lib/python3.7/site-packages/pyneuroml/lib/jNeuroML-0.12.0-jar-with-dependencies.jar\"  \"LEMS_GLIF_566291893.xml\" -neuron -run) in directory: .\n",
      "pyNeuroML >>> CRITICAL - *** Problem running command: \n",
      "       Command 'java -Xmx400M  -jar  \"/home/anujanegi/anaconda3/envs/allen/lib/python3.7/site-packages/pyneuroml/lib/jNeuroML-0.12.0-jar-with-dependencies.jar\"  \"LEMS_GLIF_566291893.xml\" -neuron -run' returned non-zero exit status 1.\n",
      "pyNeuroML >>> CRITICAL -  jNeuroML >>   jNeuroML v0.12.0\n",
      " jNeuroML >>  (INFO) Reading from: /home/anujanegi/tj/AllenInstituteNeuroML/CellTypesDatabase/models/GLIF/566291893/LEMS_GLIF_566291893.xml\n",
      " jNeuroML >>  (INFO) Creating NeuronWriter to output files to /home/anujanegi/tj/AllenInstituteNeuroML/CellTypesDatabase/models/GLIF/566291893\n",
      " jNeuroML >>  (INFO) Adding simulation Component(id=Sim_GLIF_566291893 type=Simulation) of network/component: GLIF_566291893 (Type: networkWithTemperature:  temperature=305.15 (SI temperature))\n",
      " jNeuroML >>  (INFO) Adding population: pop_566291893\n",
      " jNeuroML >>  (INFO) -- Writing to mod: /home/anujanegi/tj/AllenInstituteNeuroML/CellTypesDatabase/models/GLIF/566291893/TEST_566291893.mod\n",
      " jNeuroML >>  (INFO) Adding projections/connections...\n",
      " jNeuroML >>  (INFO) -- Writing to mod: /home/anujanegi/tj/AllenInstituteNeuroML/CellTypesDatabase/models/GLIF/566291893/pg0.mod\n",
      " jNeuroML >>  Exception in thread \"main\" java.lang.StringIndexOutOfBoundsException: Range [0, -1) out of bounds for length 6\n",
      " jNeuroML >>  \tat java.base/jdk.internal.util.Preconditions$1.apply(Preconditions.java:55)\n",
      " jNeuroML >>  \tat java.base/jdk.internal.util.Preconditions$1.apply(Preconditions.java:52)\n",
      " jNeuroML >>  \tat java.base/jdk.internal.util.Preconditions$4.apply(Preconditions.java:213)\n",
      " jNeuroML >>  \tat java.base/jdk.internal.util.Preconditions$4.apply(Preconditions.java:210)\n",
      " jNeuroML >>  \tat java.base/jdk.internal.util.Preconditions.outOfBounds(Preconditions.java:98)\n",
      " jNeuroML >>  \tat java.base/jdk.internal.util.Preconditions.outOfBoundsCheckFromToIndex(Preconditions.java:112)\n",
      " jNeuroML >>  \tat java.base/jdk.internal.util.Preconditions.checkFromToIndex(Preconditions.java:349)\n",
      " jNeuroML >>  \tat java.base/java.lang.String.checkBoundsBeginEnd(String.java:4589)\n",
      " jNeuroML >>  \tat java.base/java.lang.String.substring(String.java:2703)\n",
      " jNeuroML >>  \tat org.neuroml.export.neuron.LEMSQuantityPathNeuron.getExposure(LEMSQuantityPathNeuron.java:96)\n",
      " jNeuroML >>  \tat org.neuroml.export.neuron.LEMSQuantityPathNeuron.getDimension(LEMSQuantityPathNeuron.java:151)\n",
      " jNeuroML >>  \tat org.neuroml.export.neuron.NeuronWriter.getMainScript(NeuronWriter.java:1401)\n",
      " jNeuroML >>  \tat org.neuroml.export.neuron.NeuronWriter.generateMainScriptAndMods(NeuronWriter.java:277)\n",
      " jNeuroML >>  \tat org.neuroml.export.neuron.NeuronWriter.generateAndRun(NeuronWriter.java:155)\n",
      " jNeuroML >>  \tat org.neuroml.JNeuroML.main(JNeuroML.java:525)\n",
      " jNeuroML >>  \n",
      "pyNeuroML >>> ERROR - execute_command_in_dir returned with output:  jNeuroML v0.12.0\n",
      "(INFO) Reading from: /home/anujanegi/tj/AllenInstituteNeuroML/CellTypesDatabase/models/GLIF/566291893/LEMS_GLIF_566291893.xml\n",
      "(INFO) Creating NeuronWriter to output files to /home/anujanegi/tj/AllenInstituteNeuroML/CellTypesDatabase/models/GLIF/566291893\n",
      "(INFO) Adding simulation Component(id=Sim_GLIF_566291893 type=Simulation) of network/component: GLIF_566291893 (Type: networkWithTemperature:  temperature=305.15 (SI temperature))\n",
      "(INFO) Adding population: pop_566291893\n",
      "(INFO) -- Writing to mod: /home/anujanegi/tj/AllenInstituteNeuroML/CellTypesDatabase/models/GLIF/566291893/TEST_566291893.mod\n",
      "(INFO) Adding projections/connections...\n",
      "(INFO) -- Writing to mod: /home/anujanegi/tj/AllenInstituteNeuroML/CellTypesDatabase/models/GLIF/566291893/pg0.mod\n",
      "Exception in thread \"main\" java.lang.StringIndexOutOfBoundsException: Range [0, -1) out of bounds for length 6\n",
      "\tat java.base/jdk.internal.util.Preconditions$1.apply(Preconditions.java:55)\n",
      "\tat java.base/jdk.internal.util.Preconditions$1.apply(Preconditions.java:52)\n",
      "\tat java.base/jdk.internal.util.Preconditions$4.apply(Preconditions.java:213)\n",
      "\tat java.base/jdk.internal.util.Preconditions$4.apply(Preconditions.java:210)\n",
      "\tat java.base/jdk.internal.util.Preconditions.outOfBounds(Preconditions.java:98)\n",
      "\tat java.base/jdk.internal.util.Preconditions.outOfBoundsCheckFromToIndex(Preconditions.java:112)\n",
      "\tat java.base/jdk.internal.util.Preconditions.checkFromToIndex(Preconditions.java:349)\n",
      "\tat java.base/java.lang.String.checkBoundsBeginEnd(String.java:4589)\n",
      "\tat java.base/java.lang.String.substring(String.java:2703)\n",
      "\tat org.neuroml.export.neuron.LEMSQuantityPathNeuron.getExposure(LEMSQuantityPathNeuron.java:96)\n",
      "\tat org.neuroml.export.neuron.LEMSQuantityPathNeuron.getDimension(LEMSQuantityPathNeuron.java:151)\n",
      "\tat org.neuroml.export.neuron.NeuronWriter.getMainScript(NeuronWriter.java:1401)\n",
      "\tat org.neuroml.export.neuron.NeuronWriter.generateMainScriptAndMods(NeuronWriter.java:277)\n",
      "\tat org.neuroml.export.neuron.NeuronWriter.generateAndRun(NeuronWriter.java:155)\n",
      "\tat org.neuroml.JNeuroML.main(JNeuroML.java:525)\n",
      "\n"
     ]
    }
   ],
   "source": [
    "!pynml LEMS_GLIF_566291893.xml -neuron -run"
   ]
  },
  {
   "cell_type": "code",
   "execution_count": 31,
   "id": "7cb780b0",
   "metadata": {},
   "outputs": [
    {
     "data": {
      "text/plain": [
       "['GLIF_566291893.net.nml',\n",
       " 'TEST_566291893.xml',\n",
       " 'ephys_sweeps.json',\n",
       " 'GLIF_566291893.xml',\n",
       " 'sweep_28.thresh.dat',\n",
       " 'MembranePotential_50pA.png',\n",
       " 'neuron_config.json',\n",
       " 'sweep_28.v.dat',\n",
       " 'TEST_566291893.net.nml',\n",
       " 'model_metadata.json',\n",
       " 'stimulus.nwb',\n",
       " 'Threshold_50pA.png',\n",
       " 'LEMS_GLIF_566291893.xml']"
      ]
     },
     "execution_count": 31,
     "metadata": {},
     "output_type": "execute_result"
    }
   ],
   "source": [
    "os.listdir()"
   ]
  },
  {
   "cell_type": "code",
   "execution_count": 10,
   "id": "7209f7e4",
   "metadata": {},
   "outputs": [
    {
     "name": "stderr",
     "output_type": "stream",
     "text": [
      "pyNeuroML >>> INFO - Loading LEMS file: ../566291893/LEMS_Test_566291893.xml and running with jNeuroML\n",
      "pyNeuroML >>> INFO - Executing: (java -Xmx400M  -Djava.awt.headless=true -jar  \"/home/anujanegi/anaconda3/envs/allen/lib/python3.7/site-packages/pyneuroml/lib/jNeuroML-0.12.0-jar-with-dependencies.jar\"  \"../566291893/LEMS_Test_566291893.xml\"  -nogui -I '') in directory: .\n",
      "pyNeuroML >>> CRITICAL - *** Problem running command: \n",
      "       Command 'java -Xmx400M  -Djava.awt.headless=true -jar  \"/home/anujanegi/anaconda3/envs/allen/lib/python3.7/site-packages/pyneuroml/lib/jNeuroML-0.12.0-jar-with-dependencies.jar\"  \"../566291893/LEMS_Test_566291893.xml\"  -nogui -I ''' returned non-zero exit status 1.\n",
      "pyNeuroML >>> CRITICAL -  jNeuroML >>   jNeuroML v0.12.0\n",
      " jNeuroML >>  Loading: /home/anujanegi/tj/AllenInstituteNeuroML/CellTypesDatabase/models/GLIF/566291893/../566291893/LEMS_Test_566291893.xml with jLEMS, NO GUI mode...\n",
      " jNeuroML >>  org.lemsml.jlems.core.run.ConnectionError: No such child element or variable GLIF_566291893 in 0[instance]\n",
      " jNeuroML >>  childHM= {../component=TEST_566291893[glifCell], location=null[location]}\n",
      " jNeuroML >>  multiHM= null\n",
      " jNeuroML >>  childA= [null[location], TEST_566291893[glifCell]]\n",
      " jNeuroML >>  \tat org.lemsml.jlems.core.run.StateInstance.getChild(StateInstance.java:553)\n",
      " jNeuroML >>  \tat org.lemsml.jlems.core.sim.RunnableAccessor.getStateWrapper(RunnableAccessor.java:48)\n",
      " jNeuroML >>  \tat org.lemsml.jlems.core.run.RuntimeRecorder.connectRunnable(RuntimeRecorder.java:71)\n",
      " jNeuroML >>  \tat org.lemsml.jlems.core.sim.Sim.run(Sim.java:246)\n",
      " jNeuroML >>  \tat org.lemsml.jlems.core.sim.Sim.run(Sim.java:154)\n",
      " jNeuroML >>  \tat org.lemsml.jlems.core.sim.Sim.run(Sim.java:145)\n",
      " jNeuroML >>  \tat org.neuroml.export.utils.Utils.loadLemsFile(Utils.java:527)\n",
      " jNeuroML >>  \tat org.neuroml.export.utils.Utils.runLemsFile(Utils.java:493)\n",
      " jNeuroML >>  \tat org.neuroml.JNeuroML.main(JNeuroML.java:606)\n",
      " jNeuroML >>  INFO Aug 25,2022 13:25  (INFO) Loading LEMS file from: /home/anujanegi/tj/AllenInstituteNeuroML/CellTypesDatabase/models/GLIF/566291893/../566291893/LEMS_Test_566291893.xml\n",
      " jNeuroML >>  INFO Aug 25,2022 13:25  (INFO) Reading from: /home/anujanegi/tj/AllenInstituteNeuroML/CellTypesDatabase/models/GLIF/566291893/../566291893/LEMS_Test_566291893.xml\n",
      " jNeuroML >>  \n",
      "pyNeuroML >>> ERROR - execute_command_in_dir returned with output:  jNeuroML v0.12.0\n",
      "Loading: /home/anujanegi/tj/AllenInstituteNeuroML/CellTypesDatabase/models/GLIF/566291893/../566291893/LEMS_Test_566291893.xml with jLEMS, NO GUI mode...\n",
      "org.lemsml.jlems.core.run.ConnectionError: No such child element or variable GLIF_566291893 in 0[instance]\n",
      "childHM= {../component=TEST_566291893[glifCell], location=null[location]}\n",
      "multiHM= null\n",
      "childA= [null[location], TEST_566291893[glifCell]]\n",
      "\tat org.lemsml.jlems.core.run.StateInstance.getChild(StateInstance.java:553)\n",
      "\tat org.lemsml.jlems.core.sim.RunnableAccessor.getStateWrapper(RunnableAccessor.java:48)\n",
      "\tat org.lemsml.jlems.core.run.RuntimeRecorder.connectRunnable(RuntimeRecorder.java:71)\n",
      "\tat org.lemsml.jlems.core.sim.Sim.run(Sim.java:246)\n",
      "\tat org.lemsml.jlems.core.sim.Sim.run(Sim.java:154)\n",
      "\tat org.lemsml.jlems.core.sim.Sim.run(Sim.java:145)\n",
      "\tat org.neuroml.export.utils.Utils.loadLemsFile(Utils.java:527)\n",
      "\tat org.neuroml.export.utils.Utils.runLemsFile(Utils.java:493)\n",
      "\tat org.neuroml.JNeuroML.main(JNeuroML.java:606)\n",
      "INFO Aug 25,2022 13:25  (INFO) Loading LEMS file from: /home/anujanegi/tj/AllenInstituteNeuroML/CellTypesDatabase/models/GLIF/566291893/../566291893/LEMS_Test_566291893.xml\n",
      "INFO Aug 25,2022 13:25  (INFO) Reading from: /home/anujanegi/tj/AllenInstituteNeuroML/CellTypesDatabase/models/GLIF/566291893/../566291893/LEMS_Test_566291893.xml\n",
      "\n"
     ]
    },
    {
     "ename": "SystemExit",
     "evalue": "1",
     "output_type": "error",
     "traceback": [
      "An exception has occurred, use %tb to see the full traceback.\n",
      "\u001b[0;31mSystemExit\u001b[0m\u001b[0;31m:\u001b[0m 1\n"
     ]
    },
    {
     "name": "stderr",
     "output_type": "stream",
     "text": [
      "/home/anujanegi/anaconda3/envs/allen/lib/python3.7/site-packages/IPython/core/interactiveshell.py:3465: UserWarning: To exit: use 'exit', 'quit', or Ctrl-D.\n",
      "  warn(\"To exit: use 'exit', 'quit', or Ctrl-D.\", stacklevel=1)\n"
     ]
    }
   ],
   "source": [
    "results = pynml.run_lems_with_jneuroml('../%s%s'%(glif_dir,lems_file_name[0].replace('./','/')),\n",
    "                                     nogui=True,\n",
    "                                     load_saved_data=True,)"
   ]
  },
  {
   "cell_type": "code",
   "execution_count": 12,
   "id": "917eba8a",
   "metadata": {},
   "outputs": [
    {
     "name": "stderr",
     "output_type": "stream",
     "text": [
      "pyNeuroML >>> INFO - Loaded data from sweep_28.v.dat; columns: [0]\n"
     ]
    }
   ],
   "source": [
    "original_model_v = f'sweep_{sweep_number}.v.dat'\n",
    "if os.path.isfile(original_model_v):\n",
    "    data, indices = pynml.reload_standard_dat_file(original_model_v)\n",
    "#     times.append(data['t'])\n",
    "#     vs.append(data[0])\n",
    "#     labels.append('Allen SDK')\n"
   ]
  },
  {
   "cell_type": "code",
   "execution_count": 18,
   "id": "213fa2a2",
   "metadata": {},
   "outputs": [
    {
     "data": {
      "text/plain": [
       "4.0200000000000005"
      ]
     },
     "execution_count": 18,
     "metadata": {},
     "output_type": "execute_result"
    }
   ],
   "source": [
    "data['t'][-1]"
   ]
  },
  {
   "cell_type": "code",
   "execution_count": null,
   "id": "1a1af50e",
   "metadata": {},
   "outputs": [],
   "source": [
    "\n",
    "\n",
    "print(\"Ran simulation; results reloaded for: %s\"%results.keys())\n",
    "\n",
    "info = \"Model %s; %spA stimulation\"%(glif_dir,curr_pA)\n",
    "\n",
    "times = [results['t']]\n",
    "vs = [results['pop_%s/0/GLIF_%s/v'%(glif_dir,glif_dir)]]\n",
    "labels = ['LEMS - jNeuroML']\n",
    "\n",
    "\n",
    "\n",
    "pynml.generate_plot(times,\n",
    "                    vs, \n",
    "                    \"Membrane potential; %s\"%info, \n",
    "                    xaxis = \"Time (s)\", \n",
    "                    yaxis = \"Voltage (V)\", \n",
    "                    labels = labels,\n",
    "                    grid = True,\n",
    "                    show_plot_already=False,\n",
    "                    save_figure_to='Comparison_%ipA.png'%(curr_pA))\n",
    "\n",
    "times = [results['t']]\n",
    "vs = [results['pop_%s/0/GLIF_%s/%s'%(glif_dir,glif_dir,thresh)]]\n",
    "labels = ['LEMS - jNeuroML']\n",
    "\n",
    "original_model_th = f'sweep_{sweep_number}.thresh.dat'\n",
    "if os.path.isfile(original_model_th):\n",
    "    data, indeces = pynml.reload_standard_dat_file(original_model_th)\n",
    "    times.append(data['t'])\n",
    "    vs.append(data[0])\n",
    "    labels.append('Allen SDK')\n",
    "\n",
    "\n",
    "pynml.generate_plot(times,\n",
    "                    vs, \n",
    "                    \"Threshold; %s\"%info, \n",
    "                    xaxis = \"Time (s)\", \n",
    "                    yaxis = \"Voltage (V)\", \n",
    "                    labels = labels,\n",
    "                    grid = True,\n",
    "                    show_plot_already=show_plot,\n",
    "                    save_figure_to='Comparison_Threshold_%ipA.png'%(curr_pA))\n",
    "\n",
    "readme = '''\n",
    "## Model: %(id)s\n",
    "\n",
    "### Original model\n",
    "\n",
    "%(name)s\n",
    "\n",
    "[Allen Cell Types DB electrophysiology page for specimen](http://celltypes.brain-map.org/mouse/experiment/electrophysiology/%(spec)s)\n",
    "\n",
    "[Neuron configuration](neuron_config.json); [model metadata](model_metadata.json); [electrophysiology summary](ephys_sweeps.json)\n",
    "\n",
    "#### Original traces:\n",
    "\n",
    "**Membrane potential**\n",
    "\n",
    "Current injection of %(curr)s pA\n",
    "\n",
    "![Original](MembranePotential_%(curr)spA.png)\n",
    "\n",
    "**Threshold**\n",
    "\n",
    "![Threshold](Threshold_%(curr)spA.png)\n",
    "\n",
    "### Conversion to NeuroML 2\n",
    "\n",
    "LEMS version of this model: [GLIF_%(id)s.xml](GLIF_%(id)s.xml)\n",
    "\n",
    "[Definitions of LEMS Component Types](../GLIFs.xml) for GLIFs.\n",
    "\n",
    "This model can be run locally by installing [jNeuroML](https://github.com/NeuroML/jNeuroML) and running:\n",
    "\n",
    "jnml LEMS_Test_%(id)s.xml\n",
    "\n",
    "#### Comparison:\n",
    "\n",
    "**Membrane potential**\n",
    "\n",
    "Current injection of %(curr)s pA\n",
    "\n",
    "![Comparison](Comparison_%(curr)spA.png)\n",
    "\n",
    "**Threshold**\n",
    "\n",
    "![Comparison](Comparison_Threshold_%(curr)spA.png)'''\n",
    "\n",
    "readme_file = open('README.md','w')\n",
    "curr_str = str(curr_pA)\n",
    "# @type curr_str str\n",
    "if curr_str.endswith('.0'):\n",
    "    curr_str = curr_str[:-2]\n",
    "readme_file.write(readme%{\"id\":glif_dir,\"name\":model_metadata['name'],\"spec\":model_metadata[\"specimen_id\"],\"curr\":curr_str})\n",
    "readme_file.close()\n",
    "\n",
    "os.chdir('..')\n",
    "\n"
   ]
  },
  {
   "cell_type": "code",
   "execution_count": 7,
   "id": "686267df",
   "metadata": {},
   "outputs": [],
   "source": [
    "os.chdir('..')"
   ]
  }
 ],
 "metadata": {
  "kernelspec": {
   "display_name": "Python 3",
   "language": "python",
   "name": "python3"
  },
  "language_info": {
   "codemirror_mode": {
    "name": "ipython",
    "version": 3
   },
   "file_extension": ".py",
   "mimetype": "text/x-python",
   "name": "python",
   "nbconvert_exporter": "python",
   "pygments_lexer": "ipython3",
   "version": "3.7.13"
  }
 },
 "nbformat": 4,
 "nbformat_minor": 5
}
